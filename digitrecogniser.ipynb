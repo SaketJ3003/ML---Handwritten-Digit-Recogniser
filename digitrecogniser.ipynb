{
 "cells": [
  {
   "cell_type": "code",
   "execution_count": 1,
   "id": "01fdfc5f",
   "metadata": {
    "_cell_guid": "b1076dfc-b9ad-4769-8c92-a6c4dae69d19",
    "_uuid": "8f2839f25d086af736a60e9eeb907d3b93b6e0e5",
    "execution": {
     "iopub.execute_input": "2025-03-06T06:59:42.250220Z",
     "iopub.status.busy": "2025-03-06T06:59:42.249900Z",
     "iopub.status.idle": "2025-03-06T06:59:43.510824Z",
     "shell.execute_reply": "2025-03-06T06:59:43.509640Z"
    },
    "papermill": {
     "duration": 1.268559,
     "end_time": "2025-03-06T06:59:43.512469",
     "exception": false,
     "start_time": "2025-03-06T06:59:42.243910",
     "status": "completed"
    },
    "tags": []
   },
   "outputs": [
    {
     "name": "stdout",
     "output_type": "stream",
     "text": [
      "/kaggle/input/digit-recognizer/sample_submission.csv\n",
      "/kaggle/input/digit-recognizer/train.csv\n",
      "/kaggle/input/digit-recognizer/test.csv\n"
     ]
    }
   ],
   "source": [
    "# This Python 3 environment comes with many helpful analytics libraries installed\n",
    "# It is defined by the kaggle/python Docker image: https://github.com/kaggle/docker-python\n",
    "# For example, here's several helpful packages to load\n",
    "\n",
    "import numpy as np # linear algebra\n",
    "import pandas as pd # data processing, CSV file I/O (e.g. pd.read_csv)\n",
    "\n",
    "# Input data files are available in the read-only \"../input/\" directory\n",
    "# For example, running this (by clicking run or pressing Shift+Enter) will list all files under the input directory\n",
    "\n",
    "import os\n",
    "for dirname, _, filenames in os.walk('/kaggle/input'):\n",
    "    for filename in filenames:\n",
    "        print(os.path.join(dirname, filename))\n",
    "\n",
    "# You can write up to 20GB to the current directory (/kaggle/working/) that gets preserved as output when you create a version using \"Save & Run All\" \n",
    "# You can also write temporary files to /kaggle/temp/, but they won't be saved outside of the current session"
   ]
  },
  {
   "cell_type": "code",
   "execution_count": 2,
   "id": "b70082f3",
   "metadata": {
    "execution": {
     "iopub.execute_input": "2025-03-06T06:59:43.522005Z",
     "iopub.status.busy": "2025-03-06T06:59:43.521596Z",
     "iopub.status.idle": "2025-03-06T06:59:47.271764Z",
     "shell.execute_reply": "2025-03-06T06:59:47.270651Z"
    },
    "papermill": {
     "duration": 3.75624,
     "end_time": "2025-03-06T06:59:47.273410",
     "exception": false,
     "start_time": "2025-03-06T06:59:43.517170",
     "status": "completed"
    },
    "tags": []
   },
   "outputs": [],
   "source": [
    "train  = pd.read_csv('/kaggle/input/digit-recognizer/train.csv')\n",
    "test   = pd.read_csv('/kaggle/input/digit-recognizer/test.csv')"
   ]
  },
  {
   "cell_type": "code",
   "execution_count": 3,
   "id": "11b0b307",
   "metadata": {
    "execution": {
     "iopub.execute_input": "2025-03-06T06:59:47.284544Z",
     "iopub.status.busy": "2025-03-06T06:59:47.284143Z",
     "iopub.status.idle": "2025-03-06T06:59:47.317585Z",
     "shell.execute_reply": "2025-03-06T06:59:47.316398Z"
    },
    "papermill": {
     "duration": 0.040083,
     "end_time": "2025-03-06T06:59:47.318932",
     "exception": false,
     "start_time": "2025-03-06T06:59:47.278849",
     "status": "completed"
    },
    "tags": []
   },
   "outputs": [
    {
     "data": {
      "text/html": [
       "<div>\n",
       "<style scoped>\n",
       "    .dataframe tbody tr th:only-of-type {\n",
       "        vertical-align: middle;\n",
       "    }\n",
       "\n",
       "    .dataframe tbody tr th {\n",
       "        vertical-align: top;\n",
       "    }\n",
       "\n",
       "    .dataframe thead th {\n",
       "        text-align: right;\n",
       "    }\n",
       "</style>\n",
       "<table border=\"1\" class=\"dataframe\">\n",
       "  <thead>\n",
       "    <tr style=\"text-align: right;\">\n",
       "      <th></th>\n",
       "      <th>label</th>\n",
       "      <th>pixel0</th>\n",
       "      <th>pixel1</th>\n",
       "      <th>pixel2</th>\n",
       "      <th>pixel3</th>\n",
       "      <th>pixel4</th>\n",
       "      <th>pixel5</th>\n",
       "      <th>pixel6</th>\n",
       "      <th>pixel7</th>\n",
       "      <th>pixel8</th>\n",
       "      <th>...</th>\n",
       "      <th>pixel774</th>\n",
       "      <th>pixel775</th>\n",
       "      <th>pixel776</th>\n",
       "      <th>pixel777</th>\n",
       "      <th>pixel778</th>\n",
       "      <th>pixel779</th>\n",
       "      <th>pixel780</th>\n",
       "      <th>pixel781</th>\n",
       "      <th>pixel782</th>\n",
       "      <th>pixel783</th>\n",
       "    </tr>\n",
       "  </thead>\n",
       "  <tbody>\n",
       "    <tr>\n",
       "      <th>0</th>\n",
       "      <td>1</td>\n",
       "      <td>0</td>\n",
       "      <td>0</td>\n",
       "      <td>0</td>\n",
       "      <td>0</td>\n",
       "      <td>0</td>\n",
       "      <td>0</td>\n",
       "      <td>0</td>\n",
       "      <td>0</td>\n",
       "      <td>0</td>\n",
       "      <td>...</td>\n",
       "      <td>0</td>\n",
       "      <td>0</td>\n",
       "      <td>0</td>\n",
       "      <td>0</td>\n",
       "      <td>0</td>\n",
       "      <td>0</td>\n",
       "      <td>0</td>\n",
       "      <td>0</td>\n",
       "      <td>0</td>\n",
       "      <td>0</td>\n",
       "    </tr>\n",
       "    <tr>\n",
       "      <th>1</th>\n",
       "      <td>0</td>\n",
       "      <td>0</td>\n",
       "      <td>0</td>\n",
       "      <td>0</td>\n",
       "      <td>0</td>\n",
       "      <td>0</td>\n",
       "      <td>0</td>\n",
       "      <td>0</td>\n",
       "      <td>0</td>\n",
       "      <td>0</td>\n",
       "      <td>...</td>\n",
       "      <td>0</td>\n",
       "      <td>0</td>\n",
       "      <td>0</td>\n",
       "      <td>0</td>\n",
       "      <td>0</td>\n",
       "      <td>0</td>\n",
       "      <td>0</td>\n",
       "      <td>0</td>\n",
       "      <td>0</td>\n",
       "      <td>0</td>\n",
       "    </tr>\n",
       "    <tr>\n",
       "      <th>2</th>\n",
       "      <td>1</td>\n",
       "      <td>0</td>\n",
       "      <td>0</td>\n",
       "      <td>0</td>\n",
       "      <td>0</td>\n",
       "      <td>0</td>\n",
       "      <td>0</td>\n",
       "      <td>0</td>\n",
       "      <td>0</td>\n",
       "      <td>0</td>\n",
       "      <td>...</td>\n",
       "      <td>0</td>\n",
       "      <td>0</td>\n",
       "      <td>0</td>\n",
       "      <td>0</td>\n",
       "      <td>0</td>\n",
       "      <td>0</td>\n",
       "      <td>0</td>\n",
       "      <td>0</td>\n",
       "      <td>0</td>\n",
       "      <td>0</td>\n",
       "    </tr>\n",
       "    <tr>\n",
       "      <th>3</th>\n",
       "      <td>4</td>\n",
       "      <td>0</td>\n",
       "      <td>0</td>\n",
       "      <td>0</td>\n",
       "      <td>0</td>\n",
       "      <td>0</td>\n",
       "      <td>0</td>\n",
       "      <td>0</td>\n",
       "      <td>0</td>\n",
       "      <td>0</td>\n",
       "      <td>...</td>\n",
       "      <td>0</td>\n",
       "      <td>0</td>\n",
       "      <td>0</td>\n",
       "      <td>0</td>\n",
       "      <td>0</td>\n",
       "      <td>0</td>\n",
       "      <td>0</td>\n",
       "      <td>0</td>\n",
       "      <td>0</td>\n",
       "      <td>0</td>\n",
       "    </tr>\n",
       "    <tr>\n",
       "      <th>4</th>\n",
       "      <td>0</td>\n",
       "      <td>0</td>\n",
       "      <td>0</td>\n",
       "      <td>0</td>\n",
       "      <td>0</td>\n",
       "      <td>0</td>\n",
       "      <td>0</td>\n",
       "      <td>0</td>\n",
       "      <td>0</td>\n",
       "      <td>0</td>\n",
       "      <td>...</td>\n",
       "      <td>0</td>\n",
       "      <td>0</td>\n",
       "      <td>0</td>\n",
       "      <td>0</td>\n",
       "      <td>0</td>\n",
       "      <td>0</td>\n",
       "      <td>0</td>\n",
       "      <td>0</td>\n",
       "      <td>0</td>\n",
       "      <td>0</td>\n",
       "    </tr>\n",
       "  </tbody>\n",
       "</table>\n",
       "<p>5 rows × 785 columns</p>\n",
       "</div>"
      ],
      "text/plain": [
       "   label  pixel0  pixel1  pixel2  pixel3  pixel4  pixel5  pixel6  pixel7  \\\n",
       "0      1       0       0       0       0       0       0       0       0   \n",
       "1      0       0       0       0       0       0       0       0       0   \n",
       "2      1       0       0       0       0       0       0       0       0   \n",
       "3      4       0       0       0       0       0       0       0       0   \n",
       "4      0       0       0       0       0       0       0       0       0   \n",
       "\n",
       "   pixel8  ...  pixel774  pixel775  pixel776  pixel777  pixel778  pixel779  \\\n",
       "0       0  ...         0         0         0         0         0         0   \n",
       "1       0  ...         0         0         0         0         0         0   \n",
       "2       0  ...         0         0         0         0         0         0   \n",
       "3       0  ...         0         0         0         0         0         0   \n",
       "4       0  ...         0         0         0         0         0         0   \n",
       "\n",
       "   pixel780  pixel781  pixel782  pixel783  \n",
       "0         0         0         0         0  \n",
       "1         0         0         0         0  \n",
       "2         0         0         0         0  \n",
       "3         0         0         0         0  \n",
       "4         0         0         0         0  \n",
       "\n",
       "[5 rows x 785 columns]"
      ]
     },
     "execution_count": 3,
     "metadata": {},
     "output_type": "execute_result"
    }
   ],
   "source": [
    "train.head()"
   ]
  },
  {
   "cell_type": "code",
   "execution_count": 4,
   "id": "20830cda",
   "metadata": {
    "execution": {
     "iopub.execute_input": "2025-03-06T06:59:47.328417Z",
     "iopub.status.busy": "2025-03-06T06:59:47.328103Z",
     "iopub.status.idle": "2025-03-06T06:59:47.332344Z",
     "shell.execute_reply": "2025-03-06T06:59:47.331676Z"
    },
    "papermill": {
     "duration": 0.009857,
     "end_time": "2025-03-06T06:59:47.333310",
     "exception": false,
     "start_time": "2025-03-06T06:59:47.323453",
     "status": "completed"
    },
    "tags": []
   },
   "outputs": [
    {
     "data": {
      "text/plain": [
       "(42000, 785)"
      ]
     },
     "execution_count": 4,
     "metadata": {},
     "output_type": "execute_result"
    }
   ],
   "source": [
    "train.shape"
   ]
  },
  {
   "cell_type": "code",
   "execution_count": 5,
   "id": "dae2d12a",
   "metadata": {
    "execution": {
     "iopub.execute_input": "2025-03-06T06:59:47.342837Z",
     "iopub.status.busy": "2025-03-06T06:59:47.342428Z",
     "iopub.status.idle": "2025-03-06T06:59:47.348939Z",
     "shell.execute_reply": "2025-03-06T06:59:47.347592Z"
    },
    "papermill": {
     "duration": 0.013143,
     "end_time": "2025-03-06T06:59:47.350618",
     "exception": false,
     "start_time": "2025-03-06T06:59:47.337475",
     "status": "completed"
    },
    "tags": []
   },
   "outputs": [
    {
     "data": {
      "text/plain": [
       "array([  0,   0,   0,   0,   0,   0,   0,   0,   0,   0,   0,   0,   0,\n",
       "         0,  93, 254, 253, 238, 170,  17,   0,   0,   0,   0,   0,   0,\n",
       "         0,   0])"
      ]
     },
     "execution_count": 5,
     "metadata": {},
     "output_type": "execute_result"
    }
   ],
   "source": [
    "number = np.array(train.iloc[0,1:]).reshape(28,28)\n",
    "number[10]"
   ]
  },
  {
   "cell_type": "code",
   "execution_count": 6,
   "id": "68119d83",
   "metadata": {
    "execution": {
     "iopub.execute_input": "2025-03-06T06:59:47.360519Z",
     "iopub.status.busy": "2025-03-06T06:59:47.360130Z",
     "iopub.status.idle": "2025-03-06T06:59:47.364102Z",
     "shell.execute_reply": "2025-03-06T06:59:47.362970Z"
    },
    "papermill": {
     "duration": 0.010253,
     "end_time": "2025-03-06T06:59:47.365380",
     "exception": false,
     "start_time": "2025-03-06T06:59:47.355127",
     "status": "completed"
    },
    "tags": []
   },
   "outputs": [],
   "source": [
    "import matplotlib.pyplot as plt"
   ]
  },
  {
   "cell_type": "code",
   "execution_count": 7,
   "id": "cdb6604d",
   "metadata": {
    "execution": {
     "iopub.execute_input": "2025-03-06T06:59:47.374980Z",
     "iopub.status.busy": "2025-03-06T06:59:47.374653Z",
     "iopub.status.idle": "2025-03-06T06:59:47.628281Z",
     "shell.execute_reply": "2025-03-06T06:59:47.624619Z"
    },
    "papermill": {
     "duration": 0.260861,
     "end_time": "2025-03-06T06:59:47.630755",
     "exception": false,
     "start_time": "2025-03-06T06:59:47.369894",
     "status": "completed"
    },
    "tags": []
   },
   "outputs": [
    {
     "data": {
      "text/plain": [
       "<matplotlib.image.AxesImage at 0x7f3f6b42a050>"
      ]
     },
     "execution_count": 7,
     "metadata": {},
     "output_type": "execute_result"
    },
    {
     "data": {
      "image/png": "[encoded data removed]",
      "text/plain": [
       "<Figure size 640x480 with 1 Axes>"
      ]
     },
     "metadata": {},
     "output_type": "display_data"
    }
   ],
   "source": [
    "plt.imshow(number)"
   ]
  },
  {
   "cell_type": "code",
   "execution_count": 8,
   "id": "81fdee98",
   "metadata": {
    "execution": {
     "iopub.execute_input": "2025-03-06T06:59:47.645769Z",
     "iopub.status.busy": "2025-03-06T06:59:47.645432Z",
     "iopub.status.idle": "2025-03-06T06:59:47.650679Z",
     "shell.execute_reply": "2025-03-06T06:59:47.649447Z"
    },
    "papermill": {
     "duration": 0.015055,
     "end_time": "2025-03-06T06:59:47.652466",
     "exception": false,
     "start_time": "2025-03-06T06:59:47.637411",
     "status": "completed"
    },
    "tags": []
   },
   "outputs": [],
   "source": [
    "number7 = np.array(train.iloc[6,1:]).reshape(28,28)"
   ]
  },
  {
   "cell_type": "code",
   "execution_count": 9,
   "id": "c4bbfbb5",
   "metadata": {
    "execution": {
     "iopub.execute_input": "2025-03-06T06:59:47.664636Z",
     "iopub.status.busy": "2025-03-06T06:59:47.664345Z",
     "iopub.status.idle": "2025-03-06T06:59:47.796096Z",
     "shell.execute_reply": "2025-03-06T06:59:47.794901Z"
    },
    "papermill": {
     "duration": 0.140466,
     "end_time": "2025-03-06T06:59:47.798142",
     "exception": false,
     "start_time": "2025-03-06T06:59:47.657676",
     "status": "completed"
    },
    "tags": []
   },
   "outputs": [
    {
     "data": {
      "text/plain": [
       "<matplotlib.image.AxesImage at 0x7f3f6b330700>"
      ]
     },
     "execution_count": 9,
     "metadata": {},
     "output_type": "execute_result"
    },
    {
     "data": {
      "image/png": "[encoded data removed]",
      "text/plain": [
       "<Figure size 640x480 with 1 Axes>"
      ]
     },
     "metadata": {},
     "output_type": "display_data"
    }
   ],
   "source": [
    "plt.imshow(number7)"
   ]
  },
  {
   "cell_type": "code",
   "execution_count": 10,
   "id": "8c175b0d",
   "metadata": {
    "execution": {
     "iopub.execute_input": "2025-03-06T06:59:47.810044Z",
     "iopub.status.busy": "2025-03-06T06:59:47.809766Z",
     "iopub.status.idle": "2025-03-06T06:59:47.813879Z",
     "shell.execute_reply": "2025-03-06T06:59:47.812743Z"
    },
    "papermill": {
     "duration": 0.011849,
     "end_time": "2025-03-06T06:59:47.815937",
     "exception": false,
     "start_time": "2025-03-06T06:59:47.804088",
     "status": "completed"
    },
    "tags": []
   },
   "outputs": [],
   "source": [
    "arr = train.iloc[6,1:]"
   ]
  },
  {
   "cell_type": "code",
   "execution_count": 11,
   "id": "646d6d1b",
   "metadata": {
    "execution": {
     "iopub.execute_input": "2025-03-06T06:59:47.827515Z",
     "iopub.status.busy": "2025-03-06T06:59:47.827118Z",
     "iopub.status.idle": "2025-03-06T06:59:47.977963Z",
     "shell.execute_reply": "2025-03-06T06:59:47.976709Z"
    },
    "papermill": {
     "duration": 0.158524,
     "end_time": "2025-03-06T06:59:47.979781",
     "exception": false,
     "start_time": "2025-03-06T06:59:47.821257",
     "status": "completed"
    },
    "tags": []
   },
   "outputs": [
    {
     "data": {
      "text/plain": [
       "(array([679.,  11.,  13.,   4.,  17.,   5.,   4.,   5.,   7.,  39.]),\n",
       " array([  0. ,  25.5,  51. ,  76.5, 102. , 127.5, 153. , 178.5, 204. ,\n",
       "        229.5, 255. ]),\n",
       " <BarContainer object of 10 artists>)"
      ]
     },
     "execution_count": 11,
     "metadata": {},
     "output_type": "execute_result"
    },
    {
     "data": {
      "image/png": "[encoded data removed]",
      "text/plain": [
       "<Figure size 640x480 with 1 Axes>"
      ]
     },
     "metadata": {},
     "output_type": "display_data"
    }
   ],
   "source": [
    "plt.hist(arr)"
   ]
  },
  {
   "cell_type": "code",
   "execution_count": 12,
   "id": "a117a3af",
   "metadata": {
    "execution": {
     "iopub.execute_input": "2025-03-06T06:59:47.991595Z",
     "iopub.status.busy": "2025-03-06T06:59:47.991154Z",
     "iopub.status.idle": "2025-03-06T06:59:47.996571Z",
     "shell.execute_reply": "2025-03-06T06:59:47.995377Z"
    },
    "papermill": {
     "duration": 0.013134,
     "end_time": "2025-03-06T06:59:47.998470",
     "exception": false,
     "start_time": "2025-03-06T06:59:47.985336",
     "status": "completed"
    },
    "tags": []
   },
   "outputs": [
    {
     "data": {
      "text/plain": [
       "255"
      ]
     },
     "execution_count": 12,
     "metadata": {},
     "output_type": "execute_result"
    }
   ],
   "source": [
    "max(arr)\n"
   ]
  },
  {
   "cell_type": "code",
   "execution_count": 13,
   "id": "7043fd33",
   "metadata": {
    "execution": {
     "iopub.execute_input": "2025-03-06T06:59:48.012644Z",
     "iopub.status.busy": "2025-03-06T06:59:48.012208Z",
     "iopub.status.idle": "2025-03-06T06:59:48.018969Z",
     "shell.execute_reply": "2025-03-06T06:59:48.017686Z"
    },
    "papermill": {
     "duration": 0.016134,
     "end_time": "2025-03-06T06:59:48.020981",
     "exception": false,
     "start_time": "2025-03-06T06:59:48.004847",
     "status": "completed"
    },
    "tags": []
   },
   "outputs": [
    {
     "data": {
      "text/plain": [
       "0"
      ]
     },
     "execution_count": 13,
     "metadata": {},
     "output_type": "execute_result"
    }
   ],
   "source": [
    "min(arr)"
   ]
  },
  {
   "cell_type": "code",
   "execution_count": 14,
   "id": "4e890f24",
   "metadata": {
    "execution": {
     "iopub.execute_input": "2025-03-06T06:59:48.033135Z",
     "iopub.status.busy": "2025-03-06T06:59:48.032771Z",
     "iopub.status.idle": "2025-03-06T06:59:48.037663Z",
     "shell.execute_reply": "2025-03-06T06:59:48.036905Z"
    },
    "papermill": {
     "duration": 0.012331,
     "end_time": "2025-03-06T06:59:48.039052",
     "exception": false,
     "start_time": "2025-03-06T06:59:48.026721",
     "status": "completed"
    },
    "tags": []
   },
   "outputs": [
    {
     "data": {
      "text/plain": [
       "21.877551020408163"
      ]
     },
     "execution_count": 14,
     "metadata": {},
     "output_type": "execute_result"
    }
   ],
   "source": [
    "np.mean(arr)"
   ]
  },
  {
   "cell_type": "markdown",
   "id": "e5f18f53",
   "metadata": {
    "papermill": {
     "duration": 0.004778,
     "end_time": "2025-03-06T06:59:48.049493",
     "exception": false,
     "start_time": "2025-03-06T06:59:48.044715",
     "status": "completed"
    },
    "tags": []
   },
   "source": [
    "## Missing Values\n"
   ]
  },
  {
   "cell_type": "code",
   "execution_count": 15,
   "id": "3c8ce583",
   "metadata": {
    "execution": {
     "iopub.execute_input": "2025-03-06T06:59:48.060796Z",
     "iopub.status.busy": "2025-03-06T06:59:48.060450Z",
     "iopub.status.idle": "2025-03-06T06:59:48.081529Z",
     "shell.execute_reply": "2025-03-06T06:59:48.080822Z"
    },
    "papermill": {
     "duration": 0.028499,
     "end_time": "2025-03-06T06:59:48.082918",
     "exception": false,
     "start_time": "2025-03-06T06:59:48.054419",
     "status": "completed"
    },
    "tags": []
   },
   "outputs": [
    {
     "data": {
      "text/plain": [
       "label       0\n",
       "pixel0      0\n",
       "pixel1      0\n",
       "pixel2      0\n",
       "pixel3      0\n",
       "           ..\n",
       "pixel779    0\n",
       "pixel780    0\n",
       "pixel781    0\n",
       "pixel782    0\n",
       "pixel783    0\n",
       "Length: 785, dtype: int64"
      ]
     },
     "execution_count": 15,
     "metadata": {},
     "output_type": "execute_result"
    }
   ],
   "source": [
    "train.isnull().sum()"
   ]
  },
  {
   "cell_type": "code",
   "execution_count": 16,
   "id": "08832459",
   "metadata": {
    "execution": {
     "iopub.execute_input": "2025-03-06T06:59:48.095612Z",
     "iopub.status.busy": "2025-03-06T06:59:48.095198Z",
     "iopub.status.idle": "2025-03-06T06:59:48.187952Z",
     "shell.execute_reply": "2025-03-06T06:59:48.186548Z"
    },
    "papermill": {
     "duration": 0.10119,
     "end_time": "2025-03-06T06:59:48.190138",
     "exception": false,
     "start_time": "2025-03-06T06:59:48.088948",
     "status": "completed"
    },
    "tags": []
   },
   "outputs": [],
   "source": [
    "x = np.array(train)\n",
    "y = np.array(test)"
   ]
  },
  {
   "cell_type": "code",
   "execution_count": 17,
   "id": "6dd7b7ae",
   "metadata": {
    "execution": {
     "iopub.execute_input": "2025-03-06T06:59:48.206483Z",
     "iopub.status.busy": "2025-03-06T06:59:48.206135Z",
     "iopub.status.idle": "2025-03-06T06:59:48.210173Z",
     "shell.execute_reply": "2025-03-06T06:59:48.209049Z"
    },
    "papermill": {
     "duration": 0.012655,
     "end_time": "2025-03-06T06:59:48.211478",
     "exception": false,
     "start_time": "2025-03-06T06:59:48.198823",
     "status": "completed"
    },
    "tags": []
   },
   "outputs": [],
   "source": [
    "X_train = x[:,1:]\n",
    "Y_train = x[:,0]\n",
    "X_test = y"
   ]
  },
  {
   "cell_type": "markdown",
   "id": "0355a626",
   "metadata": {
    "papermill": {
     "duration": 0.004849,
     "end_time": "2025-03-06T06:59:48.221887",
     "exception": false,
     "start_time": "2025-03-06T06:59:48.217038",
     "status": "completed"
    },
    "tags": []
   },
   "source": [
    "## Feature Engineering"
   ]
  },
  {
   "cell_type": "code",
   "execution_count": 18,
   "id": "0072981f",
   "metadata": {
    "execution": {
     "iopub.execute_input": "2025-03-06T06:59:48.236973Z",
     "iopub.status.busy": "2025-03-06T06:59:48.236544Z",
     "iopub.status.idle": "2025-03-06T07:00:08.120093Z",
     "shell.execute_reply": "2025-03-06T07:00:08.118558Z"
    },
    "papermill": {
     "duration": 19.894872,
     "end_time": "2025-03-06T07:00:08.121648",
     "exception": false,
     "start_time": "2025-03-06T06:59:48.226776",
     "status": "completed"
    },
    "tags": []
   },
   "outputs": [],
   "source": [
    "from tensorflow.keras.preprocessing.image import ImageDataGenerator\n",
    "X_train = X_train.reshape(-1,28,28,1)\n"
   ]
  },
  {
   "cell_type": "code",
   "execution_count": 19,
   "id": "9283b96b",
   "metadata": {
    "execution": {
     "iopub.execute_input": "2025-03-06T07:00:08.137593Z",
     "iopub.status.busy": "2025-03-06T07:00:08.136909Z",
     "iopub.status.idle": "2025-03-06T07:00:08.209405Z",
     "shell.execute_reply": "2025-03-06T07:00:08.207921Z"
    },
    "papermill": {
     "duration": 0.081139,
     "end_time": "2025-03-06T07:00:08.211532",
     "exception": false,
     "start_time": "2025-03-06T07:00:08.130393",
     "status": "completed"
    },
    "tags": []
   },
   "outputs": [],
   "source": [
    "datagen = ImageDataGenerator(\n",
    "    rotation_range = 15,\n",
    "    height_shift_range = 0.1,\n",
    "    zoom_range  = 0.1,\n",
    "    shear_range = 0.1,\n",
    "    )\n",
    "datagen.fit(X_train)"
   ]
  },
  {
   "cell_type": "code",
   "execution_count": 20,
   "id": "27853485",
   "metadata": {
    "execution": {
     "iopub.execute_input": "2025-03-06T07:00:08.224027Z",
     "iopub.status.busy": "2025-03-06T07:00:08.223657Z",
     "iopub.status.idle": "2025-03-06T07:00:08.230101Z",
     "shell.execute_reply": "2025-03-06T07:00:08.229256Z"
    },
    "papermill": {
     "duration": 0.014801,
     "end_time": "2025-03-06T07:00:08.232193",
     "exception": false,
     "start_time": "2025-03-06T07:00:08.217392",
     "status": "completed"
    },
    "tags": []
   },
   "outputs": [
    {
     "data": {
      "text/plain": [
       "array([[0, 0, 0, ..., 0, 0, 0],\n",
       "       [0, 0, 0, ..., 0, 0, 0],\n",
       "       [0, 0, 0, ..., 0, 0, 0],\n",
       "       ...,\n",
       "       [0, 0, 0, ..., 0, 0, 0],\n",
       "       [0, 0, 0, ..., 0, 0, 0],\n",
       "       [0, 0, 0, ..., 0, 0, 0]])"
      ]
     },
     "execution_count": 20,
     "metadata": {},
     "output_type": "execute_result"
    }
   ],
   "source": [
    "X_train = X_train.reshape(-1,784)\n",
    "X_train"
   ]
  },
  {
   "cell_type": "markdown",
   "id": "e8261499",
   "metadata": {
    "papermill": {
     "duration": 0.007718,
     "end_time": "2025-03-06T07:00:08.250161",
     "exception": false,
     "start_time": "2025-03-06T07:00:08.242443",
     "status": "completed"
    },
    "tags": []
   },
   "source": [
    "## Model"
   ]
  },
  {
   "cell_type": "code",
   "execution_count": 21,
   "id": "5c27ac77",
   "metadata": {
    "execution": {
     "iopub.execute_input": "2025-03-06T07:00:08.265082Z",
     "iopub.status.busy": "2025-03-06T07:00:08.264622Z",
     "iopub.status.idle": "2025-03-06T07:00:10.208746Z",
     "shell.execute_reply": "2025-03-06T07:00:10.207270Z"
    },
    "papermill": {
     "duration": 1.955015,
     "end_time": "2025-03-06T07:00:10.210868",
     "exception": false,
     "start_time": "2025-03-06T07:00:08.255853",
     "status": "completed"
    },
    "tags": []
   },
   "outputs": [],
   "source": [
    "from sklearn.neighbors import KNeighborsClassifier"
   ]
  },
  {
   "cell_type": "code",
   "execution_count": 22,
   "id": "f075c5e0",
   "metadata": {
    "execution": {
     "iopub.execute_input": "2025-03-06T07:00:10.225476Z",
     "iopub.status.busy": "2025-03-06T07:00:10.224778Z",
     "iopub.status.idle": "2025-03-06T07:00:10.299945Z",
     "shell.execute_reply": "2025-03-06T07:00:10.299124Z"
    },
    "papermill": {
     "duration": 0.083598,
     "end_time": "2025-03-06T07:00:10.301736",
     "exception": false,
     "start_time": "2025-03-06T07:00:10.218138",
     "status": "completed"
    },
    "tags": []
   },
   "outputs": [
    {
     "data": {
      "text/html": [
       "<style>#sk-container-id-1 {color: black;background-color: white;}#sk-container-id-1 pre{padding: 0;}#sk-container-id-1 div.sk-toggleable {background-color: white;}#sk-container-id-1 label.sk-toggleable__label {cursor: pointer;display: block;width: 100%;margin-bottom: 0;padding: 0.3em;box-sizing: border-box;text-align: center;}#sk-container-id-1 label.sk-toggleable__label-arrow:before {content: \"▸\";float: left;margin-right: 0.25em;color: #696969;}#sk-container-id-1 label.sk-toggleable__label-arrow:hover:before {color: black;}#sk-container-id-1 div.sk-estimator:hover label.sk-toggleable__label-arrow:before {color: black;}#sk-container-id-1 div.sk-toggleable__content {max-height: 0;max-width: 0;overflow: hidden;text-align: left;background-color: #f0f8ff;}#sk-container-id-1 div.sk-toggleable__content pre {margin: 0.2em;color: black;border-radius: 0.25em;background-color: #f0f8ff;}#sk-container-id-1 input.sk-toggleable__control:checked~div.sk-toggleable__content {max-height: 200px;max-width: 100%;overflow: auto;}#sk-container-id-1 input.sk-toggleable__control:checked~label.sk-toggleable__label-arrow:before {content: \"▾\";}#sk-container-id-1 div.sk-estimator input.sk-toggleable__control:checked~label.sk-toggleable__label {background-color: #d4ebff;}#sk-container-id-1 div.sk-label input.sk-toggleable__control:checked~label.sk-toggleable__label {background-color: #d4ebff;}#sk-container-id-1 input.sk-hidden--visually {border: 0;clip: rect(1px 1px 1px 1px);clip: rect(1px, 1px, 1px, 1px);height: 1px;margin: -1px;overflow: hidden;padding: 0;position: absolute;width: 1px;}#sk-container-id-1 div.sk-estimator {font-family: monospace;background-color: #f0f8ff;border: 1px dotted black;border-radius: 0.25em;box-sizing: border-box;margin-bottom: 0.5em;}#sk-container-id-1 div.sk-estimator:hover {background-color: #d4ebff;}#sk-container-id-1 div.sk-parallel-item::after {content: \"\";width: 100%;border-bottom: 1px solid gray;flex-grow: 1;}#sk-container-id-1 div.sk-label:hover label.sk-toggleable__label {background-color: #d4ebff;}#sk-container-id-1 div.sk-serial::before {content: \"\";position: absolute;border-left: 1px solid gray;box-sizing: border-box;top: 0;bottom: 0;left: 50%;z-index: 0;}#sk-container-id-1 div.sk-serial {display: flex;flex-direction: column;align-items: center;background-color: white;padding-right: 0.2em;padding-left: 0.2em;position: relative;}#sk-container-id-1 div.sk-item {position: relative;z-index: 1;}#sk-container-id-1 div.sk-parallel {display: flex;align-items: stretch;justify-content: center;background-color: white;position: relative;}#sk-container-id-1 div.sk-item::before, #sk-container-id-1 div.sk-parallel-item::before {content: \"\";position: absolute;border-left: 1px solid gray;box-sizing: border-box;top: 0;bottom: 0;left: 50%;z-index: -1;}#sk-container-id-1 div.sk-parallel-item {display: flex;flex-direction: column;z-index: 1;position: relative;background-color: white;}#sk-container-id-1 div.sk-parallel-item:first-child::after {align-self: flex-end;width: 50%;}#sk-container-id-1 div.sk-parallel-item:last-child::after {align-self: flex-start;width: 50%;}#sk-container-id-1 div.sk-parallel-item:only-child::after {width: 0;}#sk-container-id-1 div.sk-dashed-wrapped {border: 1px dashed gray;margin: 0 0.4em 0.5em 0.4em;box-sizing: border-box;padding-bottom: 0.4em;background-color: white;}#sk-container-id-1 div.sk-label label {font-family: monospace;font-weight: bold;display: inline-block;line-height: 1.2em;}#sk-container-id-1 div.sk-label-container {text-align: center;}#sk-container-id-1 div.sk-container {/* jupyter's `normalize.less` sets `[hidden] { display: none; }` but bootstrap.min.css set `[hidden] { display: none !important; }` so we also need the `!important` here to be able to override the default hidden behavior on the sphinx rendered scikit-learn.org. See: https://github.com/scikit-learn/scikit-learn/issues/21755 */display: inline-block !important;position: relative;}#sk-container-id-1 div.sk-text-repr-fallback {display: none;}</style><div id=\"sk-container-id-1\" class=\"sk-top-container\"><div class=\"sk-text-repr-fallback\"><pre>KNeighborsClassifier()</pre><b>In a Jupyter environment, please rerun this cell to show the HTML representation or trust the notebook. <br />On GitHub, the HTML representation is unable to render, please try loading this page with nbviewer.org.</b></div><div class=\"sk-container\" hidden><div class=\"sk-item\"><div class=\"sk-estimator sk-toggleable\"><input class=\"sk-toggleable__control sk-hidden--visually\" id=\"sk-estimator-id-1\" type=\"checkbox\" checked><label for=\"sk-estimator-id-1\" class=\"sk-toggleable__label sk-toggleable__label-arrow\">KNeighborsClassifier</label><div class=\"sk-toggleable__content\"><pre>KNeighborsClassifier()</pre></div></div></div></div></div>"
      ],
      "text/plain": [
       "KNeighborsClassifier()"
      ]
     },
     "execution_count": 22,
     "metadata": {},
     "output_type": "execute_result"
    }
   ],
   "source": [
    "knn = KNeighborsClassifier(n_neighbors=5)\n",
    "knn.fit(X_train,Y_train)"
   ]
  },
  {
   "cell_type": "code",
   "execution_count": 23,
   "id": "fb8a0fb4",
   "metadata": {
    "execution": {
     "iopub.execute_input": "2025-03-06T07:00:10.315161Z",
     "iopub.status.busy": "2025-03-06T07:00:10.314812Z",
     "iopub.status.idle": "2025-03-06T07:00:10.435729Z",
     "shell.execute_reply": "2025-03-06T07:00:10.434271Z"
    },
    "papermill": {
     "duration": 0.129072,
     "end_time": "2025-03-06T07:00:10.437159",
     "exception": false,
     "start_time": "2025-03-06T07:00:10.308087",
     "status": "completed"
    },
    "tags": []
   },
   "outputs": [
    {
     "name": "stderr",
     "output_type": "stream",
     "text": [
      "<ipython-input-23-667e4b54d9de>:1: DeprecationWarning: Conversion of an array with ndim > 0 to a scalar is deprecated, and will error in future. Ensure you extract a single element from your array before performing this operation. (Deprecated NumPy 1.25.)\n",
      "  int(knn.predict(X_test[50].reshape(1,-1)))\n"
     ]
    },
    {
     "data": {
      "text/plain": [
       "6"
      ]
     },
     "execution_count": 23,
     "metadata": {},
     "output_type": "execute_result"
    }
   ],
   "source": [
    "int(knn.predict(X_test[50].reshape(1,-1)))"
   ]
  },
  {
   "cell_type": "code",
   "execution_count": 24,
   "id": "07452f13",
   "metadata": {
    "execution": {
     "iopub.execute_input": "2025-03-06T07:00:10.451088Z",
     "iopub.status.busy": "2025-03-06T07:00:10.450797Z",
     "iopub.status.idle": "2025-03-06T07:00:10.579968Z",
     "shell.execute_reply": "2025-03-06T07:00:10.578761Z"
    },
    "papermill": {
     "duration": 0.137138,
     "end_time": "2025-03-06T07:00:10.581313",
     "exception": false,
     "start_time": "2025-03-06T07:00:10.444175",
     "status": "completed"
    },
    "tags": []
   },
   "outputs": [
    {
     "data": {
      "text/plain": [
       "<matplotlib.image.AxesImage at 0x7f3ed26f7670>"
      ]
     },
     "execution_count": 24,
     "metadata": {},
     "output_type": "execute_result"
    },
    {
     "data": {
      "image/png": "[encoded data removed]",
      "text/plain": [
       "<Figure size 640x480 with 1 Axes>"
      ]
     },
     "metadata": {},
     "output_type": "display_data"
    }
   ],
   "source": [
    "num = np.array(test.iloc[50,:]).reshape(28,28)\n",
    "plt.imshow(num)"
   ]
  },
  {
   "cell_type": "code",
   "execution_count": null,
   "id": "804c567c",
   "metadata": {
    "papermill": {
     "duration": 0.005343,
     "end_time": "2025-03-06T07:00:10.592696",
     "exception": false,
     "start_time": "2025-03-06T07:00:10.587353",
     "status": "completed"
    },
    "tags": []
   },
   "outputs": [],
   "source": []
  }
 ],
 "metadata": {
  "kaggle": {
   "accelerator": "none",
   "dataSources": [
    {
     "databundleVersionId": 861823,
     "sourceId": 3004,
     "sourceType": "competition"
    }
   ],
   "dockerImageVersionId": 30918,
   "isGpuEnabled": false,
   "isInternetEnabled": false,
   "language": "python",
   "sourceType": "notebook"
  },
  "kernelspec": {
   "display_name": "Python 3",
   "language": "python",
   "name": "python3"
  },
  "language_info": {
   "codemirror_mode": {
    "name": "ipython",
    "version": 3
   },
   "file_extension": ".py",
   "mimetype": "text/x-python",
   "name": "python",
   "nbconvert_exporter": "python",
   "pygments_lexer": "ipython3",
   "version": "3.10.12"
  },
  "papermill": {
   "default_parameters": {},
   "duration": 33.484735,
   "end_time": "2025-03-06T07:00:13.154232",
   "environment_variables": {},
   "exception": null,
   "input_path": "__notebook__.ipynb",
   "output_path": "__notebook__.ipynb",
   "parameters": {},
   "start_time": "2025-03-06T06:59:39.669497",
   "version": "2.6.0"
  }
 },
 "nbformat": 4,
 "nbformat_minor": 5
}
